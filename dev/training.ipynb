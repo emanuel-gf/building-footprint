{
 "cells": [
  {
   "cell_type": "markdown",
   "id": "76498583",
   "metadata": {},
   "source": [
    "### Create the folder following YOLO tree folder structure"
   ]
  },
  {
   "cell_type": "code",
   "execution_count": 1,
   "id": "c88361cf",
   "metadata": {},
   "outputs": [
    {
     "ename": "ModuleNotFoundError",
     "evalue": "No module named 'labelling'",
     "output_type": "error",
     "traceback": [
      "\u001b[31m---------------------------------------------------------------------------\u001b[39m",
      "\u001b[31mModuleNotFoundError\u001b[39m                       Traceback (most recent call last)",
      "\u001b[36mCell\u001b[39m\u001b[36m \u001b[39m\u001b[32mIn[1]\u001b[39m\u001b[32m, line 10\u001b[39m\n\u001b[32m      8\u001b[39m \u001b[38;5;28;01mfrom\u001b[39;00m\u001b[38;5;250m \u001b[39m\u001b[34;01msrc\u001b[39;00m\u001b[34;01m.\u001b[39;00m\u001b[34;01mutils\u001b[39;00m\u001b[34;01m.\u001b[39;00m\u001b[34;01mutil\u001b[39;00m\u001b[38;5;250m \u001b[39m\u001b[38;5;28;01mimport\u001b[39;00m load_config, load_json, create_list_files\n\u001b[32m      9\u001b[39m \u001b[38;5;28;01mfrom\u001b[39;00m\u001b[38;5;250m \u001b[39m\u001b[34;01msrc\u001b[39;00m\u001b[34;01m.\u001b[39;00m\u001b[34;01mutils\u001b[39;00m\u001b[34;01m.\u001b[39;00m\u001b[34;01mpreprocessing\u001b[39;00m\u001b[38;5;250m \u001b[39m\u001b[38;5;28;01mimport\u001b[39;00m create_yolo_tree_structure\n\u001b[32m---> \u001b[39m\u001b[32m10\u001b[39m \u001b[38;5;28;01mfrom\u001b[39;00m\u001b[38;5;250m \u001b[39m\u001b[34;01msrc\u001b[39;00m\u001b[34;01m.\u001b[39;00m\u001b[34;01mutils\u001b[39;00m\u001b[34;01m.\u001b[39;00m\u001b[34;01mplots\u001b[39;00m\u001b[38;5;250m \u001b[39m\u001b[38;5;28;01mimport\u001b[39;00m plot_images\n",
      "\u001b[36mFile \u001b[39m\u001b[32m~/projects/drone/dev/src/utils/plots.py:7\u001b[39m\n\u001b[32m      5\u001b[39m \u001b[38;5;28;01mfrom\u001b[39;00m\u001b[38;5;250m \u001b[39m\u001b[34;01mpathlib\u001b[39;00m\u001b[38;5;250m \u001b[39m\u001b[38;5;28;01mimport\u001b[39;00m Path\n\u001b[32m      6\u001b[39m \u001b[38;5;28;01mimport\u001b[39;00m\u001b[38;5;250m \u001b[39m\u001b[34;01mmatplotlib\u001b[39;00m\u001b[34;01m.\u001b[39;00m\u001b[34;01mpatches\u001b[39;00m\u001b[38;5;250m \u001b[39m\u001b[38;5;28;01mas\u001b[39;00m\u001b[38;5;250m \u001b[39m\u001b[34;01mpatches\u001b[39;00m\n\u001b[32m----> \u001b[39m\u001b[32m7\u001b[39m \u001b[38;5;28;01mfrom\u001b[39;00m\u001b[38;5;250m \u001b[39m\u001b[34;01mlabelling\u001b[39;00m\u001b[38;5;250m \u001b[39m\u001b[38;5;28;01mimport\u001b[39;00m read_classication_label, read_segmentation_label\n\u001b[32m      9\u001b[39m \u001b[38;5;28;01mdef\u001b[39;00m\u001b[38;5;250m \u001b[39m\u001b[34mprint_img\u001b[39m(path, \u001b[38;5;28mdir\u001b[39m=\u001b[33m\"\u001b[39m\u001b[33m/mnt/d/desktop/drone-mapping/code/dev/newdataset_overlap/patches\u001b[39m\u001b[33m\"\u001b[39m):\n\u001b[32m     11\u001b[39m     img = cv2.imread(path)\n",
      "\u001b[31mModuleNotFoundError\u001b[39m: No module named 'labelling'"
     ]
    }
   ],
   "source": [
    "import os \n",
    "import shutil\n",
    "from sklearn.model_selection import train_test_split\n",
    "import glob\n",
    "import json\n",
    "\n",
    "## import the function\n",
    "from src.utils.util import load_config, load_json, create_list_files\n",
    "from src.utils.preprocessing import create_yolo_tree_structure\n",
    "from src.utils.plots import plot_images\n"
   ]
  },
  {
   "cell_type": "code",
   "execution_count": null,
   "id": "dcc9e446",
   "metadata": {},
   "outputs": [],
   "source": [
    "config = load_config(\"src/config/config.yaml\")"
   ]
  },
  {
   "cell_type": "code",
   "execution_count": 5,
   "id": "34ea54af",
   "metadata": {},
   "outputs": [],
   "source": [
    "list_images = create_list_files(\n",
    "    os.path.join(config['datasets']['root_folder'], config['datasets']['name_tile_folder']),\n",
    "    glob = \"*.tif\"\n",
    ")\n",
    "\n",
    "list_bitmap = create_list_files(\n",
    "    os.path.join(config['datasets']['root_folder'], config['datasets']['name_bitmap_folder']),\n",
    "    glob = \"*.png\"\n",
    ")\n",
    "\n",
    "list_labels = create_list_files(\n",
    "    os.path.join(config['datasets']['root_folder'], config['datasets']['name_labels_folder']),\n",
    "    glob = \"*.txt\"\n",
    ")\n",
    "\n",
    "list_metadata = create_list_files(\n",
    "    os.path.join(config['datasets']['root_folder'], config['datasets']['name_metadata_folder']),\n",
    "    glob = \"*.json\"\n",
    ")"
   ]
  },
  {
   "cell_type": "markdown",
   "id": "a6e9f217",
   "metadata": {},
   "source": [
    "### Check for Valid Images\n",
    "\n",
    "Analyse the metadata and see if the percentange of black and white pixels summed are higher than the threshold"
   ]
  },
  {
   "cell_type": "code",
   "execution_count": 33,
   "id": "6b29d8a1",
   "metadata": {},
   "outputs": [
    {
     "name": "stdout",
     "output_type": "stream",
     "text": [
      "The whole folder has 817 files.\n",
      "INVALIDS: There was found 304 files higher than the threshold\n"
     ]
    }
   ],
   "source": [
    "threshold = 0.98\n",
    "list_non_valid_img = []\n",
    "list_valid_img = []\n",
    "for metadata in list_metadata:\n",
    "    with open(metadata,'r') as f:\n",
    "        f = json.load(f)\n",
    "        if f[\"sum_black_white\"] >= threshold:\n",
    "            list_non_valid_img.append(metadata)\n",
    "        else:\n",
    "            list_valid_img.append(metadata)\n",
    "\n",
    "print(f\"The whole folder has {len(list_metadata)} files.\")\n",
    "print(f\"INVALIDS: There was found {len(list_non_valid_img)} files higher than the threshold\")"
   ]
  },
  {
   "cell_type": "markdown",
   "id": "8879cead",
   "metadata": {},
   "source": [
    "### Train - Test Split"
   ]
  },
  {
   "cell_type": "code",
   "execution_count": 116,
   "id": "5dd6855d",
   "metadata": {},
   "outputs": [
    {
     "name": "stdout",
     "output_type": "stream",
     "text": [
      "There are 72  images ready to be train and tested\n",
      " The size of the bitmap image is: 72\n",
      "The total number of images is: 817\n"
     ]
    }
   ],
   "source": [
    "## Here it is finding all image inside the folder BITMAP \n",
    "## looking for the same image file name at the folder \"NAME TILE FOLDER\"\n",
    "## and returning the whole path for the image\n",
    "\n",
    "## Basically, it is matching the images existent on the folder BITMAP with the folder TILE\n",
    "name_tile_folder = config['datasets']['name_tile_folder']\n",
    "list_images_train_test = [os.path.join(f.parent.parent.joinpath(name_tile_folder),\n",
    "                            f.stem+\".tif\") for f in list_bitmap]\n",
    "\n",
    "print(f\"There are {len(list_images_train_test)}  images ready to be train and tested\")\n",
    "print(f\" The size of the bitmap image is: {len(list_bitmap)}\")\n",
    "print(f\"The total number of images is: {len(list_images)}\")"
   ]
  },
  {
   "cell_type": "markdown",
   "id": "3b78ddc9",
   "metadata": {},
   "source": [
    "- Apply the function to create the folder structure"
   ]
  },
  {
   "cell_type": "code",
   "execution_count": null,
   "id": "9f35fdb1",
   "metadata": {},
   "outputs": [
    {
     "name": "stdout",
     "output_type": "stream",
     "text": [
      "\n",
      "============================================================\n",
      "Creating YOLO dataset structure in: /mnt/d/desktop/drone-mapping/data/new_tiling/YOLO\n",
      "============================================================\n",
      "Total images: 72\n",
      "Train/Test split: 90% / 10%\n",
      "============================================================\n",
      "\n",
      "  TRAIN set:\n",
      "   Images copied: 64\n",
      "   Labels copied: 64\n",
      "  TEST set:\n",
      "   Images copied: 8\n",
      "   Labels copied: 8\n"
     ]
    },
    {
     "data": {
      "text/plain": [
       "{'train': {'images': 64, 'labels': 64, 'missing_labels': 0},\n",
       " 'test': {'images': 8, 'labels': 8, 'missing_labels': 0}}"
      ]
     },
     "execution_count": 124,
     "metadata": {},
     "output_type": "execute_result"
    }
   ],
   "source": [
    "from pathlib import Path\n",
    "output_folder = Path(\"/mnt/d/desktop/drone-mapping/data/new_tiling/YOLO\")\n",
    "\n",
    "create_yolo_tree_structure(list_imgs = list_images_train_test,\n",
    "                           name_folder_label = config['datasets']['name_labels_folder'],\n",
    "                           output_dir=output_folder,\n",
    "                           random_state=42,\n",
    "                           test_size=0.1)"
   ]
  },
  {
   "cell_type": "markdown",
   "id": "10a9bb51",
   "metadata": {},
   "source": []
  }
 ],
 "metadata": {
  "kernelspec": {
   "display_name": "lighthouse",
   "language": "python",
   "name": "python3"
  },
  "language_info": {
   "codemirror_mode": {
    "name": "ipython",
    "version": 3
   },
   "file_extension": ".py",
   "mimetype": "text/x-python",
   "name": "python",
   "nbconvert_exporter": "python",
   "pygments_lexer": "ipython3",
   "version": "3.13.7"
  }
 },
 "nbformat": 4,
 "nbformat_minor": 5
}
